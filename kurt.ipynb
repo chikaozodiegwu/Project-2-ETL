{
 "metadata": {
  "language_info": {
   "codemirror_mode": {
    "name": "ipython",
    "version": 3
   },
   "file_extension": ".py",
   "mimetype": "text/x-python",
   "name": "python",
   "nbconvert_exporter": "python",
   "pygments_lexer": "ipython3",
   "version": "3.6.10-final"
  },
  "orig_nbformat": 2,
  "kernelspec": {
   "name": "python_defaultSpec_1598395140363",
   "display_name": "Python 3.6.10 64-bit ('PythonData': conda)"
  }
 },
 "nbformat": 4,
 "nbformat_minor": 2,
 "cells": [
  {
   "cell_type": "code",
   "execution_count": 13,
   "metadata": {
    "tags": []
   },
   "outputs": [],
   "source": [
    "import pandas as pd\n",
    "\n",
    "beneficiary_data = pd.read_csv(\"Resources\\Test_Beneficiarydata-1542969243754.csv\")\n",
    "inpatient_data = pd.read_csv(\"Resources\\Test_Inpatientdata-1542969243754.csv\")\n",
    "outpatient_data = pd.read_csv(\"Resources\\Test_Outpatientdata-1542969243754.csv\")\n",
    "test_data = pd.read_csv(\"Resources\\Test-1542969243754.csv\")\n",
    "train_beneficiary = pd.read_csv(\"Resources\\Train_Beneficiarydata-1542865627584.csv\")\n",
    "train_inpatient = pd.read_csv(\"Resources\\Train_Inpatientdata-1542865627584.csv\")\n",
    "train_outpatient = pd.read_csv(\"Resources\\Train_Outpatientdata-1542865627584.csv\")\n",
    "train_data = pd.read_csv(\"Resources\\Train-1542865627584.csv\")\n",
    "\n",
    "dict = {\n",
    "    \"test_beneficiary-data\" : beneficiary_data,\n",
    "    \"test_inpatient-data\" : inpatient_data,\n",
    "    \"test_outpatient-data\" : outpatient_data,\n",
    "    \"test_data\" : test_data,\n",
    "    \"train_beneficiary-data\" : beneficiary_data,\n",
    "    \"train_inpatient-data\" : train_inpatient,\n",
    "    \"train_outpatient-data\" : train_outpatient,\n",
    "    \"train_data\" : train_data\n",
    "}\n",
    "\n"
   ]
  },
  {
   "cell_type": "code",
   "execution_count": 18,
   "metadata": {
    "tags": []
   },
   "outputs": [],
   "source": [
    "# for key in dict.keys():\n",
    "#     print(key)\n",
    "#     print(\"-\")\n",
    "#     [print(x) for x in list(dict[key].keys())] \n",
    "#     print(\"\")\n",
    "\n"
   ]
  },
  {
   "cell_type": "code",
   "execution_count": 58,
   "metadata": {},
   "outputs": [
    {
     "output_type": "execute_result",
     "data": {
      "text/plain": "0         PRV55912\n1         PRV55907\n2         PRV56046\n3         PRV52405\n4         PRV56614\n            ...   \n517732    PRV53699\n517733    PRV53702\n517734    PRV53676\n517735    PRV53689\n517736    PRV53689\nName: Provider, Length: 558211, dtype: object"
     },
     "metadata": {},
     "execution_count": 58
    }
   ],
   "source": [
    "df = train_inpatient.append(train_outpatient)\n",
    "#df.join(train_data, on=\"Provider\",how=\"left\")\n",
    "df[\"Provider\"]\n",
    "#train_data[\"Provider\"]"
   ]
  },
  {
   "cell_type": "code",
   "execution_count": 47,
   "metadata": {},
   "outputs": [
    {
     "output_type": "execute_result",
     "data": {
      "text/plain": "      Provider PotentialFraud\n0     PRV51001             No\n1     PRV51003            Yes\n2     PRV51004             No\n3     PRV51005            Yes\n4     PRV51007             No\n...        ...            ...\n5405  PRV57759             No\n5406  PRV57760             No\n5407  PRV57761             No\n5408  PRV57762             No\n5409  PRV57763             No\n\n[5410 rows x 2 columns]",
      "text/html": "<div>\n<style scoped>\n    .dataframe tbody tr th:only-of-type {\n        vertical-align: middle;\n    }\n\n    .dataframe tbody tr th {\n        vertical-align: top;\n    }\n\n    .dataframe thead th {\n        text-align: right;\n    }\n</style>\n<table border=\"1\" class=\"dataframe\">\n  <thead>\n    <tr style=\"text-align: right;\">\n      <th></th>\n      <th>Provider</th>\n      <th>PotentialFraud</th>\n    </tr>\n  </thead>\n  <tbody>\n    <tr>\n      <th>0</th>\n      <td>PRV51001</td>\n      <td>No</td>\n    </tr>\n    <tr>\n      <th>1</th>\n      <td>PRV51003</td>\n      <td>Yes</td>\n    </tr>\n    <tr>\n      <th>2</th>\n      <td>PRV51004</td>\n      <td>No</td>\n    </tr>\n    <tr>\n      <th>3</th>\n      <td>PRV51005</td>\n      <td>Yes</td>\n    </tr>\n    <tr>\n      <th>4</th>\n      <td>PRV51007</td>\n      <td>No</td>\n    </tr>\n    <tr>\n      <th>...</th>\n      <td>...</td>\n      <td>...</td>\n    </tr>\n    <tr>\n      <th>5405</th>\n      <td>PRV57759</td>\n      <td>No</td>\n    </tr>\n    <tr>\n      <th>5406</th>\n      <td>PRV57760</td>\n      <td>No</td>\n    </tr>\n    <tr>\n      <th>5407</th>\n      <td>PRV57761</td>\n      <td>No</td>\n    </tr>\n    <tr>\n      <th>5408</th>\n      <td>PRV57762</td>\n      <td>No</td>\n    </tr>\n    <tr>\n      <th>5409</th>\n      <td>PRV57763</td>\n      <td>No</td>\n    </tr>\n  </tbody>\n</table>\n<p>5410 rows × 2 columns</p>\n</div>"
     },
     "metadata": {},
     "execution_count": 47
    }
   ],
   "source": []
  },
  {
   "cell_type": "code",
   "execution_count": null,
   "metadata": {},
   "outputs": [],
   "source": []
  }
 ]
}